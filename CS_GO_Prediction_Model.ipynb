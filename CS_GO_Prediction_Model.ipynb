{
  "nbformat": 4,
  "nbformat_minor": 0,
  "metadata": {
    "colab": {
      "name": "CS:GO Prediction Model.ipynb",
      "provenance": [],
      "collapsed_sections": [],
      "authorship_tag": "ABX9TyPKq94+9/VuuAy3/TcehiRD",
      "include_colab_link": true
    },
    "kernelspec": {
      "name": "python3",
      "display_name": "Python 3"
    }
  },
  "cells": [
    {
      "cell_type": "markdown",
      "metadata": {
        "id": "view-in-github",
        "colab_type": "text"
      },
      "source": [
        "<a href=\"https://colab.research.google.com/github/DKhan1998/Prediction-Model/blob/master/CS_GO_Prediction_Model.ipynb\" target=\"_parent\"><img src=\"https://colab.research.google.com/assets/colab-badge.svg\" alt=\"Open In Colab\"/></a>"
      ]
    },
    {
      "cell_type": "code",
      "metadata": {
        "id": "tlKDcONdRR5t",
        "colab_type": "code",
        "colab": {
          "base_uri": "https://localhost:8080/",
          "height": 182
        },
        "outputId": "25043fa4-1f7d-4a3d-c548-554a3b40af49"
      },
      "source": [
        "%tensorflow_version 2.x\n",
        "# Load the TensorBoard notebook extension.\n",
        "%load_ext tensorboard\n",
        "\n",
        "!pip uninstall keras\n",
        "\n",
        "# Use seaborn for pairplot\n",
        "!pip install -q seaborn\n",
        "\n",
        "# Use some functions from tensorflow_docs\n",
        "!pip install -q git+https://github.com/tensorflow/docs\n",
        "\n",
        "# Import keras to use the callback function to analyse model\n",
        "!pip install -q git+https://github.com/keras-team/keras.git"
      ],
      "execution_count": null,
      "outputs": [
        {
          "output_type": "stream",
          "text": [
            "Uninstalling Keras-2.4.3:\n",
            "  Would remove:\n",
            "    /usr/local/lib/python3.6/dist-packages/Keras-2.4.3.dist-info/*\n",
            "    /usr/local/lib/python3.6/dist-packages/docs/*\n",
            "    /usr/local/lib/python3.6/dist-packages/keras/*\n",
            "  Would not remove (might be manually added):\n",
            "    /usr/local/lib/python3.6/dist-packages/docs/md_autogen.py\n",
            "    /usr/local/lib/python3.6/dist-packages/docs/update_docs.py\n",
            "Proceed (y/n)? "
          ],
          "name": "stdout"
        }
      ]
    },
    {
      "cell_type": "code",
      "metadata": {
        "id": "hD_x2Rrqt1mH",
        "colab_type": "code",
        "colab": {}
      },
      "source": [
        "import sys;\n",
        "import tensorflow as tf\n",
        "\n",
        "#Version 1 libraries for sequential model\n",
        "import pandas as pd\n",
        "import numpy as np\n",
        "import matplotlib.pyplot as plt\n",
        "\n",
        "from sklearn.metrics import confusion_matrix, precision_score\n",
        "from sklearn.utils import shuffle\n",
        "from tensorflow.keras.layers import Dense, Dropout\n",
        "from tensorflow.keras.models import Sequential\n",
        "from tensorflow.keras.regularizers import l2\n",
        "from sklearn.model_selection import train_test_split\n",
        "from IPython.display import display\n",
        "\n",
        "#necesseray libraries for version 2 of the model.\n",
        "import xgboost as xgb\n",
        "import pathlib\n",
        "import seaborn as sns\n",
        "import tensorflow_docs as tfdocs\n",
        "import tensorflow_docs.plots\n",
        "import tensorflow_docs.modeling\n",
        "\n",
        "from sklearn.linear_model import LogisticRegression\n",
        "from sklearn.svm import SVC\n",
        "from pandas.plotting import scatter_matrix\n",
        "from sklearn.metrics import f1_score\n",
        "\n",
        "\n",
        "# Tensorboard libraries\n",
        "import tensorboard\n",
        "from datetime import datetime\n",
        "from packaging import version\n",
        "from tensorboard import notebook\n",
        "notebook.list() # View opened TensorBoard instances"
      ],
      "execution_count": null,
      "outputs": []
    },
    {
      "cell_type": "markdown",
      "metadata": {
        "id": "DQFdsjzaSXy2",
        "colab_type": "text"
      },
      "source": [
        "# Upload Dataset to Pandas DataFrame"
      ]
    },
    {
      "cell_type": "code",
      "metadata": {
        "id": "MxvIewm5SPr9",
        "colab_type": "code",
        "colab": {
          "resources": {
            "http://localhost:8080/nbextensions/google.colab/files.js": {
              "data": "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",
              "ok": true,
              "headers": [
                [
                  "content-type",
                  "application/javascript"
                ]
              ],
              "status": 200,
              "status_text": ""
            }
          },
          "base_uri": "https://localhost:8080/",
          "height": 74
        },
        "outputId": "0b7cfc0a-c450-4a4c-e4c9-1d101fc442bd"
      },
      "source": [
        "# Open database\n",
        "from google.colab import files\n",
        "uploaded = files.upload()"
      ],
      "execution_count": null,
      "outputs": [
        {
          "output_type": "display_data",
          "data": {
            "text/html": [
              "\n",
              "     <input type=\"file\" id=\"files-8ee4041e-a762-4a25-8302-ebc4e97f6fe5\" name=\"files[]\" multiple disabled />\n",
              "     <output id=\"result-8ee4041e-a762-4a25-8302-ebc4e97f6fe5\">\n",
              "      Upload widget is only available when the cell has been executed in the\n",
              "      current browser session. Please rerun this cell to enable.\n",
              "      </output>\n",
              "      <script src=\"/nbextensions/google.colab/files.js\"></script> "
            ],
            "text/plain": [
              "<IPython.core.display.HTML object>"
            ]
          },
          "metadata": {
            "tags": []
          }
        },
        {
          "output_type": "stream",
          "text": [
            "Saving Players Dataset.csv to Players Dataset.csv\n"
          ],
          "name": "stdout"
        }
      ]
    },
    {
      "cell_type": "markdown",
      "metadata": {
        "id": "ngJFeGfC7idt",
        "colab_type": "text"
      },
      "source": [
        ""
      ]
    },
    {
      "cell_type": "code",
      "metadata": {
        "id": "VjbkiviBpN_1",
        "colab_type": "code",
        "colab": {}
      },
      "source": [
        "import io\n",
        "df2 = pd.read_csv(io.BytesIO(uploaded['Players Dataset.csv']))\n",
        "# Dataset is now stored in a Pandas Dataframe"
      ],
      "execution_count": null,
      "outputs": []
    },
    {
      "cell_type": "markdown",
      "metadata": {
        "id": "vNEtquZL5jci",
        "colab_type": "text"
      },
      "source": [
        "# VISUALISING DISTRIBUTION OF DATA\n",
        "\n",
        "The scatter matrix plots each of the specified coloums against each other column. \n",
        "\n",
        "Scatter plots show how much one variable is affected by another.\n",
        "The relationship between two variables is called the correlation.\n",
        "negative vs positive correlation\n",
        "\n",
        "FTR = Final Time Results (W = Win, D = Draw, L = Loss)\n",
        "\n",
        "KPG = Kills Per Game\n",
        "\n",
        "DPG = Deaths Per Game\n",
        "\n",
        "KDR = Kills Deaths Ratio\n",
        "\n",
        "FPR = Frags Per Round\n",
        "\n",
        "ADR = Average Damage per Round\n"
      ]
    },
    {
      "cell_type": "code",
      "metadata": {
        "id": "f0YfmAkAk0ay",
        "colab_type": "code",
        "colab": {
          "base_uri": "https://localhost:8080/",
          "height": 285
        },
        "outputId": "c257e3db-567b-4b38-947f-98245de78278"
      },
      "source": [
        "## Separate the input and output features; Version 1 of model\n",
        "\n",
        "x = df2.drop(columns=['FTR'])\n",
        "y = df2['FTR']\n",
        "\n",
        "#Standarising the data. - Version 2 model\n",
        "from sklearn.preprocessing import scale\n",
        "\n",
        "#Center to the mean and component wise scale to unit variance - improves prediction capability\n",
        "cols = [['KPG', 'DPG', 'KDR', 'FPR', 'ADR']]\n",
        "for col in cols:\n",
        "  x[col] = scale(x[col])\n",
        "\n",
        "# Use the scatter matrix to display the datset and correlation between features.\n",
        "  scatter_matrix(df2, alpha=0.2)"
      ],
      "execution_count": null,
      "outputs": [
        {
          "output_type": "display_data",
          "data": {
            "image/png": "[encoded data removed]",
            "text/plain": [
              "<Figure size 432x288 with 25 Axes>"
            ]
          },
          "metadata": {
            "tags": [],
            "needs_background": "light"
          }
        }
      ]
    },
    {
      "cell_type": "markdown",
      "metadata": {
        "id": "ohe3wbJQNeUv",
        "colab_type": "text"
      },
      "source": [
        "#Preproccessing DataFrame"
      ]
    },
    {
      "cell_type": "code",
      "metadata": {
        "id": "3agL0NXpEaRe",
        "colab_type": "code",
        "colab": {
          "base_uri": "https://localhost:8080/",
          "height": 204
        },
        "outputId": "d3bd725f-3953-4f28-a92a-33877e005fc0"
      },
      "source": [
        "'''# identifies datatypes in the dataset '''\n",
        "df2.dtypes\n",
        "\n",
        "# Create a new dataset to pass\n",
        "def preprocess_features(df2):\n",
        "\n",
        "  # Initialize new Dataframe\n",
        "  output = pd.DataFrame(index= df2.index)\n",
        "\n",
        "  # Investigate the nature of each feature column\n",
        "  for col, col_data in df2.iteritems():\n",
        "\n",
        "    #If data type is categorical, convert it to dummy data\n",
        "    # Using One Hot Encoding we have created 3 new columns with an integer assign \n",
        "    if col_data.dtypes == object:\n",
        "      col_data = pd.get_dummies(col_data, prefix= col)\n",
        "\n",
        "    # Collect the revised columns of the dataset\n",
        "    output = output.join(col_data)\n",
        "\n",
        "  return output\n",
        "\n",
        "x = preprocess_features(df2)\n",
        "\n",
        "# Shuffles the given dataset\n",
        "df2 = shuffle(x, random_state=2)\n",
        "\n",
        "df2.head()\n"
      ],
      "execution_count": null,
      "outputs": [
        {
          "output_type": "execute_result",
          "data": {
            "text/html": [
              "<div>\n",
              "<style scoped>\n",
              "    .dataframe tbody tr th:only-of-type {\n",
              "        vertical-align: middle;\n",
              "    }\n",
              "\n",
              "    .dataframe tbody tr th {\n",
              "        vertical-align: top;\n",
              "    }\n",
              "\n",
              "    .dataframe thead th {\n",
              "        text-align: right;\n",
              "    }\n",
              "</style>\n",
              "<table border=\"1\" class=\"dataframe\">\n",
              "  <thead>\n",
              "    <tr style=\"text-align: right;\">\n",
              "      <th></th>\n",
              "      <th>FTR_D</th>\n",
              "      <th>FTR_L</th>\n",
              "      <th>FTR_W</th>\n",
              "      <th>KPG</th>\n",
              "      <th>DPG</th>\n",
              "      <th>KDR</th>\n",
              "      <th>FPR</th>\n",
              "      <th>ADR</th>\n",
              "    </tr>\n",
              "  </thead>\n",
              "  <tbody>\n",
              "    <tr>\n",
              "      <th>64</th>\n",
              "      <td>0</td>\n",
              "      <td>0</td>\n",
              "      <td>1</td>\n",
              "      <td>23</td>\n",
              "      <td>21</td>\n",
              "      <td>1.1</td>\n",
              "      <td>1.0</td>\n",
              "      <td>169</td>\n",
              "    </tr>\n",
              "    <tr>\n",
              "      <th>9</th>\n",
              "      <td>0</td>\n",
              "      <td>0</td>\n",
              "      <td>1</td>\n",
              "      <td>37</td>\n",
              "      <td>14</td>\n",
              "      <td>2.6</td>\n",
              "      <td>1.9</td>\n",
              "      <td>227</td>\n",
              "    </tr>\n",
              "    <tr>\n",
              "      <th>97</th>\n",
              "      <td>0</td>\n",
              "      <td>0</td>\n",
              "      <td>1</td>\n",
              "      <td>20</td>\n",
              "      <td>20</td>\n",
              "      <td>1.0</td>\n",
              "      <td>0.8</td>\n",
              "      <td>113</td>\n",
              "    </tr>\n",
              "    <tr>\n",
              "      <th>203</th>\n",
              "      <td>0</td>\n",
              "      <td>0</td>\n",
              "      <td>1</td>\n",
              "      <td>14</td>\n",
              "      <td>20</td>\n",
              "      <td>0.7</td>\n",
              "      <td>0.5</td>\n",
              "      <td>75</td>\n",
              "    </tr>\n",
              "    <tr>\n",
              "      <th>35</th>\n",
              "      <td>0</td>\n",
              "      <td>1</td>\n",
              "      <td>0</td>\n",
              "      <td>37</td>\n",
              "      <td>29</td>\n",
              "      <td>1.3</td>\n",
              "      <td>1.4</td>\n",
              "      <td>169</td>\n",
              "    </tr>\n",
              "  </tbody>\n",
              "</table>\n",
              "</div>"
            ],
            "text/plain": [
              "     FTR_D  FTR_L  FTR_W  KPG  DPG  KDR  FPR  ADR\n",
              "64       0      0      1   23   21  1.1  1.0  169\n",
              "9        0      0      1   37   14  2.6  1.9  227\n",
              "97       0      0      1   20   20  1.0  0.8  113\n",
              "203      0      0      1   14   20  0.7  0.5   75\n",
              "35       0      1      0   37   29  1.3  1.4  169"
            ]
          },
          "metadata": {
            "tags": []
          },
          "execution_count": 136
        }
      ]
    },
    {
      "cell_type": "markdown",
      "metadata": {
        "id": "-BV6JEtHNmJ_",
        "colab_type": "text"
      },
      "source": [
        "#Splitting DataFrame 80% / 20%"
      ]
    },
    {
      "cell_type": "code",
      "metadata": {
        "id": "hlF8KIekFrd4",
        "colab_type": "code",
        "colab": {
          "base_uri": "https://localhost:8080/",
          "height": 34
        },
        "outputId": "3c71e23f-776b-457e-e537-7e97bc02178b"
      },
      "source": [
        "# split data into training and testing data\n",
        "\n",
        "x_train, x_test, y_train, y_test = train_test_split(x,y, test_size = 80, random_state = 2, stratify = y)\n",
        "\n",
        "x_train.shape, y_train.shape, x_test.shape, y_test.shape"
      ],
      "execution_count": null,
      "outputs": [
        {
          "output_type": "execute_result",
          "data": {
            "text/plain": [
              "((129, 8), (129,), (80, 8), (80,))"
            ]
          },
          "metadata": {
            "tags": []
          },
          "execution_count": 137
        }
      ]
    },
    {
      "cell_type": "markdown",
      "metadata": {
        "id": "0_NePK-tYXQH",
        "colab_type": "text"
      },
      "source": [
        "# Setting logs directory  for Tensorboard"
      ]
    },
    {
      "cell_type": "code",
      "metadata": {
        "id": "ba4JHx7LYVdy",
        "colab_type": "code",
        "colab": {}
      },
      "source": [
        "logdir = \"logs/scalars/\" + datetime.now().strftime(\"%Y%m%d-%H%M%S\")\n",
        "tensorboard_callback = keras.callbacks.TensorBoard(log_dir=logdir)"
      ],
      "execution_count": null,
      "outputs": []
    },
    {
      "cell_type": "markdown",
      "metadata": {
        "id": "xrDsr5F6YdQn",
        "colab_type": "text"
      },
      "source": [
        "# Version 1 of Prediction Model - Sequential"
      ]
    },
    {
      "cell_type": "code",
      "metadata": {
        "id": "i4IvfO-vpi3x",
        "colab_type": "code",
        "colab": {
          "base_uri": "https://localhost:8080/",
          "height": 54
        },
        "outputId": "b5bc0c5d-0670-4581-8ea2-5fcffb30269a"
      },
      "source": [
        "''' Version 1 of Prediction Model, Produced unsatisfactory results.\n",
        "\n",
        "#define a sequential model\n",
        "model = Sequential()\n",
        "\n",
        "#hidden layer-1 \n",
        "model.add(Dense(100, activation='relu', input_dim=5, kernel_regularizer=l2(0.01\n",
        ")))\n",
        "model.add(Dropout(0.3, seed=None))\n",
        "\n",
        "#hidden layer-2 \n",
        "model.add(Dense(100, activation='relu', kernel_regularizer=l2(0.01\n",
        ")))\n",
        "model.add(Dropout(0.3, seed=None))\n",
        "\n",
        "#Output layer\n",
        "model.add(Dense(1, activation='sigmoid')) \n",
        "\n",
        "# Compile the model with the following metrics\n",
        "model.compile(loss='binary_crossentropy', optimizer='adam', metrics=['acc'])\n",
        "\n",
        "# Shows you a summary of the model crafted.\n",
        "model.summary()\n",
        "'''"
      ],
      "execution_count": null,
      "outputs": [
        {
          "output_type": "execute_result",
          "data": {
            "text/plain": [
              "\" Version 1 of Prediction Model, Produced unsatisfactory results.\\n\\n#define a sequential model\\nmodel = Sequential()\\n\\n#hidden layer-1 \\nmodel.add(Dense(100, activation='relu', input_dim=5, kernel_regularizer=l2(0.01\\n)))\\nmodel.add(Dropout(0.3, seed=None))\\n\\n#hidden layer-2 \\nmodel.add(Dense(100, activation='relu', kernel_regularizer=l2(0.01\\n)))\\nmodel.add(Dropout(0.3, seed=None))\\n\\n#Output layer\\nmodel.add(Dense(1, activation='sigmoid')) \\n\\n# Compile the model with the following metrics\\nmodel.compile(loss='binary_crossentropy', optimizer='adam', metrics=['acc'])\\n\\n# Shows you a summary of the model crafted.\\nmodel.summary()\\n\""
            ]
          },
          "metadata": {
            "tags": []
          },
          "execution_count": 112
        }
      ]
    },
    {
      "cell_type": "code",
      "metadata": {
        "id": "sOLk48e13F4N",
        "colab_type": "code",
        "colab": {
          "base_uri": "https://localhost:8080/",
          "height": 54
        },
        "outputId": "9f009b5f-3ae0-415a-c999-60f9456135d7"
      },
      "source": [
        "''' Training Version 1 o rediction model \n",
        "\n",
        "model_output = model.fit(x_train, y_train, epochs=500, batch_size=20, verbose=1, validation_data=(x_test, y_test), callbacks=[tensorboard_callback])\n",
        "\n",
        "print('training Accuracy : ', np.mean(model_output.history['acc']))\n",
        "print('Validation Accuracy : ', np.mean(model_output.history['val_acc'])) '''"
      ],
      "execution_count": null,
      "outputs": [
        {
          "output_type": "execute_result",
          "data": {
            "text/plain": [
              "\" Training Version 1 o rediction model \\n\\nmodel_output = model.fit(x_train, y_train, epochs=500, batch_size=20, verbose=1, validation_data=(x_test, y_test), callbacks=[tensorboard_callback])\\n\\nprint('training Accuracy : ', np.mean(model_output.history['acc']))\\nprint('Validation Accuracy : ', np.mean(model_output.history['val_acc'])) \""
            ]
          },
          "metadata": {
            "tags": []
          },
          "execution_count": 113
        }
      ]
    },
    {
      "cell_type": "markdown",
      "metadata": {
        "id": "8iA8hftTYjyp",
        "colab_type": "text"
      },
      "source": [
        "# Version 2 of Prediction Model - 3 in 1"
      ]
    },
    {
      "cell_type": "code",
      "metadata": {
        "id": "hzAC_7W7ZEgb",
        "colab_type": "code",
        "cellView": "code",
        "colab": {}
      },
      "source": [
        "#@title Default title text\n",
        "def train_classifier(clf, x_train, y_train):\n",
        "  ''' Fits a classifier to the training data '''\n",
        "\n",
        "  # Start the clock, train the classifier, then stop the clock\n",
        "  start = tf.timestamp()\n",
        "  history = clf.fit(x_train, y_train)\n",
        "  end = tf.timestamp()\n",
        "\n",
        "  #Print the results\n",
        "  print ('Trained model in {:.4f} seconds'.format(end - start))\n",
        "\n",
        "def predict_labels(clf, features, target):\n",
        "  ''' Makes predictions using a fit classfier based on f1 score and accuracy ''' \n",
        "\n",
        "  pos_label = 'W'\n",
        "\n",
        "  # Start the clock, make predictions, then stop the clock\n",
        "  start = tf.timestamp()\n",
        "  y_pred = clf.predict(features)\n",
        "  end = tf.timestamp()\n",
        "\n",
        "  # Print and return results\n",
        "  print ('Made predictions in {:.4f} seconds'.format(end-start))\n",
        "  score = f1_score(target, y_pred, labels=[pos_label], average='micro', zero_division='warn')\n",
        "  print (score)\n",
        "  return score\n",
        "\n",
        "def train_predict(clf, x_train, y_train, x_test, y_test):\n",
        "  ''' Train and predict using a classifier based on an F1 score '''\n",
        "\n",
        "  # Train the classifier\n",
        "  train_classifier(clf, x_train, y_train)\n",
        "\n",
        "  #Print the results of prediction for both trainign and testing\n",
        "  f1 = predict_labels(clf, x_train, y_train)\n",
        "\n",
        "  f1 = predict_labels(clf, x_test, y_test)\n",
        "\n"
      ],
      "execution_count": null,
      "outputs": []
    },
    {
      "cell_type": "markdown",
      "metadata": {
        "id": "TlShsE1BURj9",
        "colab_type": "text"
      },
      "source": [
        ""
      ]
    },
    {
      "cell_type": "code",
      "metadata": {
        "id": "PkZluXWDMKRn",
        "colab_type": "code",
        "colab": {
          "base_uri": "https://localhost:8080/",
          "height": 479
        },
        "outputId": "25b6a8d4-37c1-472f-bd33-7f6b4045d31a"
      },
      "source": [
        "''' Version 2 of prediction model uses 3 different models to test which one is more dominant in outcome\n",
        "    In this section a test is conducted to see which model perfomrs the best in this type of data with\n",
        "    the following 3 models         '''\n",
        "\n",
        "# Defining the types of model to run test on\n",
        "clf_A = Logist\n",
        "#necesseray libraries for version 2icRegression(random_state= 42)\n",
        "clf_B = SVC(random_state= 912, kernel='rbf')\n",
        "clf_C = xgb.XGBClassifier(seed = 82)\n",
        "\n",
        "LG_T = train_predict(clf_A, x_train, y_train, x_test, y_test)\n",
        "print ()\n",
        "\n",
        "SVM_T = train_predict(clf_B, x_train, y_train, x_test, y_test)\n",
        "print ()\n",
        "\n",
        "XGB_T = train_predict(clf_C, x_train, y_train, x_test, y_test)\n",
        "print ()"
      ],
      "execution_count": null,
      "outputs": [
        {
          "output_type": "stream",
          "text": [
            "Trained model in 0.0364 seconds\n",
            "Made predictions in 0.0012 seconds\n",
            "0.743455497382199\n",
            "Made predictions in 0.0010 seconds\n",
            "0.7154471544715447\n",
            "\n",
            "Trained model in 0.0032 seconds\n",
            "Made predictions in 0.0014 seconds\n",
            "0.7425742574257426\n",
            "Made predictions in 0.0012 seconds\n",
            "0.7401574803149606\n",
            "\n",
            "Trained model in 0.0366 seconds\n",
            "Made predictions in 0.0033 seconds\n",
            "0.9548387096774195\n",
            "Made predictions in 0.0021 seconds\n",
            "0.6796116504854368\n",
            "\n"
          ],
          "name": "stdout"
        },
        {
          "output_type": "stream",
          "text": [
            "/usr/local/lib/python3.6/dist-packages/sklearn/linear_model/_logistic.py:940: ConvergenceWarning: lbfgs failed to converge (status=1):\n",
            "STOP: TOTAL NO. of ITERATIONS REACHED LIMIT.\n",
            "\n",
            "Increase the number of iterations (max_iter) or scale the data as shown in:\n",
            "    https://scikit-learn.org/stable/modules/preprocessing.html\n",
            "Please also refer to the documentation for alternative solver options:\n",
            "    https://scikit-learn.org/stable/modules/linear_model.html#logistic-regression\n",
            "  extra_warning_msg=_LOGISTIC_SOLVER_CONVERGENCE_MSG)\n"
          ],
          "name": "stderr"
        }
      ]
    },
    {
      "cell_type": "markdown",
      "metadata": {
        "id": "EfIvkBzVYsKs",
        "colab_type": "text"
      },
      "source": [
        "# Tensorboard analysis "
      ]
    },
    {
      "cell_type": "code",
      "metadata": {
        "id": "YdkAE9ZOI1e8",
        "colab_type": "code",
        "colab": {
          "base_uri": "https://localhost:8080/",
          "height": 34
        },
        "outputId": "857e4831-9ba0-4bc2-eb45-c8a5c95632df"
      },
      "source": [
        "%tensorboard --logdir logs/scalars/"
      ],
      "execution_count": null,
      "outputs": [
        {
          "output_type": "stream",
          "text": [
            "UsageError: Line magic function `%tensorboard` not found.\n"
          ],
          "name": "stderr"
        }
      ]
    }
  ]
}